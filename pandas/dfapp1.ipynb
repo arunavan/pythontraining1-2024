{
 "cells": [
  {
   "cell_type": "code",
   "execution_count": 2,
   "id": "ac191040-e529-40b5-9951-2ab561141ea4",
   "metadata": {},
   "outputs": [
    {
     "name": "stdout",
     "output_type": "stream",
     "text": [
      "   calories  duration\n",
      "0       420        50\n",
      "1       380        40\n",
      "2       390        45\n",
      "calories    420\n",
      "duration     50\n",
      "Name: 0, dtype: int64\n",
      "   calories  duration\n",
      "1       380        40\n"
     ]
    }
   ],
   "source": [
    "import pandas as pd\n",
    "\n",
    "data = {\n",
    "  \"calories\": [420, 380, 390],\n",
    "  \"duration\": [50, 40, 45]\n",
    "}\n",
    "\n",
    "df = pd.DataFrame(data)\n",
    "\n",
    "print(df) \n",
    "\n",
    "print(df.loc[0])\n",
    "\n",
    "print(df.loc[[1]])"
   ]
  },
  {
   "cell_type": "code",
   "execution_count": null,
   "id": "d0d4657e-77b3-4925-b3d1-cfa1f1d0497b",
   "metadata": {},
   "outputs": [],
   "source": []
  }
 ],
 "metadata": {
  "kernelspec": {
   "display_name": "Python 3 (ipykernel)",
   "language": "python",
   "name": "python3"
  },
  "language_info": {
   "codemirror_mode": {
    "name": "ipython",
    "version": 3
   },
   "file_extension": ".py",
   "mimetype": "text/x-python",
   "name": "python",
   "nbconvert_exporter": "python",
   "pygments_lexer": "ipython3",
   "version": "3.11.4"
  },
  "widgets": {
   "application/vnd.jupyter.widget-state+json": {
    "state": {},
    "version_major": 2,
    "version_minor": 0
   }
  }
 },
 "nbformat": 4,
 "nbformat_minor": 5
}
